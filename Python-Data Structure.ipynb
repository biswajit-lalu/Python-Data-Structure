{
 "cells": [
  {
   "cell_type": "code",
   "execution_count": null,
   "id": "03af0691-2bdc-4c24-9ef2-0e804ff41151",
   "metadata": {},
   "outputs": [],
   "source": [
    "#1. What are data structures, and why are they important?\n",
    "  - Data structures are ways of organizing and storing data to enable efficient access and modification. They are crucial for writing optimized and scalable code."
   ]
  },
  {
   "cell_type": "code",
   "execution_count": null,
   "id": "dfbee4b8-4bc3-4eb6-ba38-e8f954fe12d0",
   "metadata": {},
   "outputs": [],
   "source": [
    "#2. Explain the difference between mutable and immutable data types with examples.\n",
    "  - Mutable: Can be changed (e.g., list, dict, set).\n",
    "    Immutable: Cannot be changed (e.g., int, str, tuple)."
   ]
  },
  {
   "cell_type": "code",
   "execution_count": 3,
   "id": "8e1f16bb-52ea-40fa-a87c-ca67039018aa",
   "metadata": {},
   "outputs": [
    {
     "data": {
      "text/plain": [
       "[5, 7, 6, 4]"
      ]
     },
     "execution_count": 3,
     "metadata": {},
     "output_type": "execute_result"
    }
   ],
   "source": [
    "list = [5,7,3,4]\n",
    "list[2] = 6\n",
    "list"
   ]
  },
  {
   "cell_type": "code",
   "execution_count": 5,
   "id": "d48965c5-dfd9-47da-9acf-417b0272a5e9",
   "metadata": {},
   "outputs": [
    {
     "ename": "TypeError",
     "evalue": "'tuple' object does not support item assignment",
     "output_type": "error",
     "traceback": [
      "\u001b[1;31m---------------------------------------------------------------------------\u001b[0m",
      "\u001b[1;31mTypeError\u001b[0m                                 Traceback (most recent call last)",
      "Cell \u001b[1;32mIn[5], line 2\u001b[0m\n\u001b[0;32m      1\u001b[0m \u001b[38;5;28mtuple\u001b[39m \u001b[38;5;241m=\u001b[39m (\u001b[38;5;241m2\u001b[39m,\u001b[38;5;241m3\u001b[39m,\u001b[38;5;241m4\u001b[39m)\n\u001b[1;32m----> 2\u001b[0m \u001b[38;5;28mtuple\u001b[39m[\u001b[38;5;241m1\u001b[39m] \u001b[38;5;241m=\u001b[39m \u001b[38;5;241m5\u001b[39m \u001b[38;5;66;03m# Error\u001b[39;00m\n\u001b[0;32m      3\u001b[0m \u001b[38;5;28mtuple\u001b[39m\n",
      "\u001b[1;31mTypeError\u001b[0m: 'tuple' object does not support item assignment"
     ]
    }
   ],
   "source": [
    "tuple = (2,3,4)\n",
    "tuple[1] = 5 # Error\n",
    "tuple"
   ]
  },
  {
   "cell_type": "code",
   "execution_count": null,
   "id": "42edaf35-5ca6-4527-9840-f11351d7cf52",
   "metadata": {},
   "outputs": [],
   "source": [
    "#3. What are the main differences between lists and tuples in Python?\n",
    "  -'''List is  Mutable, dynamic size, more memory.\n",
    "     Tuple is Immutable, faster access, can be used as dictionary keys.'''"
   ]
  },
  {
   "cell_type": "code",
   "execution_count": null,
   "id": "9300840c-2f68-4845-9281-b6ca7ed07b87",
   "metadata": {},
   "outputs": [],
   "source": [
    "#4. Describe how dictionaries store data.\n",
    "  -'''Dictionaries store data as key-value pairs using a hash table.'''"
   ]
  },
  {
   "cell_type": "code",
   "execution_count": null,
   "id": "c216c415-7b07-44d6-8eb5-6e27e72d6871",
   "metadata": {},
   "outputs": [],
   "source": [
    "#5. Why might you use a set instead of a list in Python?\n",
    "  -'''Sets automatically remove duplicates and offer faster membership tests.'''"
   ]
  },
  {
   "cell_type": "code",
   "execution_count": null,
   "id": "d305a382-3084-4f9e-b4a0-6179f6b3e93b",
   "metadata": {},
   "outputs": [],
   "source": [
    "#6. What is a string in Python, and how is it different from a list?\n",
    "  -'''A string is an immutable sequence of characters; a list is mutable and can contain any data types.'''"
   ]
  },
  {
   "cell_type": "code",
   "execution_count": null,
   "id": "8db57483-3d33-4149-af38-9ac8aa047acb",
   "metadata": {},
   "outputs": [],
   "source": [
    "#7. How do tuples ensure data integrity in Python?\n",
    "  -'''Since tuples are immutable, their contents cannot be changed, ensuring data consistency.'''"
   ]
  },
  {
   "cell_type": "code",
   "execution_count": null,
   "id": "bf49078a-7c63-46dd-b711-3537d0facd2a",
   "metadata": {},
   "outputs": [],
   "source": [
    "#8. What is a hash table, and how does it relate to dictionaries in Python?\n",
    "  -'''A hash table stores key-value pairs using a hashing function; dictionaries in Python use hash tables internally.'''"
   ]
  },
  {
   "cell_type": "code",
   "execution_count": null,
   "id": "df13253a-df03-44b9-8398-c1564e18faba",
   "metadata": {},
   "outputs": [],
   "source": [
    "#9. Can lists contain different data types in Python?\n",
    "  -'''Yes, Python lists can hold different data types.'''"
   ]
  },
  {
   "cell_type": "code",
   "execution_count": null,
   "id": "dc6c60aa-26f6-48a7-9ef4-a3f67e7786ee",
   "metadata": {},
   "outputs": [],
   "source": [
    "#10. Explain why strings are immutable in Python.\n",
    "  -'''For memory efficiency, thread safety, and hashability, which allows strings to be used as keys in dictionaries.'''"
   ]
  },
  {
   "cell_type": "code",
   "execution_count": null,
   "id": "d91f9576-5d0d-48dd-8225-3ff35e607916",
   "metadata": {},
   "outputs": [],
   "source": [
    "#11. What advantages do dictionaries offer over lists for certain tasks?\n",
    "  -'''Faster data retrieval via keys, organized storage with descriptive keys, better performance for lookup.'''"
   ]
  },
  {
   "cell_type": "code",
   "execution_count": null,
   "id": "951ce265-8f78-42e0-92c3-dfdac8abd21d",
   "metadata": {},
   "outputs": [],
   "source": [
    "#12. Describe a scenario where using a tuple would be preferable over a list.\n",
    "   -'''Use a tuple when data should not change (e.g., coordinates, fixed configurations).'''"
   ]
  },
  {
   "cell_type": "code",
   "execution_count": null,
   "id": "5c04685e-d3c6-46f9-8a10-3fb58445dffc",
   "metadata": {},
   "outputs": [],
   "source": [
    "#13. How do sets handle duplicate values in Python?\n",
    "   -'''Sets automatically eliminate duplicate elements.'''"
   ]
  },
  {
   "cell_type": "code",
   "execution_count": null,
   "id": "86aa1ba5-072a-4073-be39-f236ee9b69f6",
   "metadata": {},
   "outputs": [],
   "source": [
    "#14. How does the “in” keyword work differently for lists and dictionaries?\n",
    "   -'''In lists: Checks if a value exists.\n",
    "       In dictionaries: Checks if a key exists.'''"
   ]
  },
  {
   "cell_type": "code",
   "execution_count": null,
   "id": "b3e00a50-f4e8-403b-9897-92cbbc7337dd",
   "metadata": {},
   "outputs": [],
   "source": [
    "#15. Can you modify the elements of a tuple? Explain why or why not?\n",
    "   -'''No, tuples are immutable.'''"
   ]
  },
  {
   "cell_type": "code",
   "execution_count": null,
   "id": "c8588bd9-5482-4080-9a53-a67c4cf50e3c",
   "metadata": {},
   "outputs": [],
   "source": [
    "#16. What is a nested dictionary, and give an example of its use case?\n",
    "   -'''A dictionary inside another dictionary.'''"
   ]
  },
  {
   "cell_type": "code",
   "execution_count": 7,
   "id": "0e04c00b-727f-4028-9580-86e7ca91eafe",
   "metadata": {},
   "outputs": [
    {
     "data": {
      "text/plain": [
       "{'Class 9': 'Ajay',\n",
       " 'Class 10': 'Bijay',\n",
       " 'Classes': {'Class 11': 'Atul', 'Class 12': 'Aditi'}}"
      ]
     },
     "execution_count": 7,
     "metadata": {},
     "output_type": "execute_result"
    }
   ],
   "source": [
    "students = {\"Class 9\": \"Ajay\", \"Class 10\": \"Bijay\", \"Classes\":{\"Class 11\": \"Atul\", \"Class 12\": \"Aditi\"}}\n",
    "students"
   ]
  },
  {
   "cell_type": "code",
   "execution_count": null,
   "id": "81ad48af-10f2-4bbd-bb07-1df56fcb6718",
   "metadata": {},
   "outputs": [],
   "source": [
    "#17. Describe the time complexity of accessing elements in a dictionary.\n",
    "   -'''Average-case: O(1) due to hashing.'''"
   ]
  },
  {
   "cell_type": "code",
   "execution_count": null,
   "id": "3cd762c4-1dae-4675-be48-ac26f64ac8d5",
   "metadata": {},
   "outputs": [],
   "source": [
    "#18. In what situations are lists preferred over dictionaries?\n",
    "   -'''When order matters or when data doesn't require key-based access.'''"
   ]
  },
  {
   "cell_type": "code",
   "execution_count": null,
   "id": "35843bf8-60d7-4089-a942-c622ff8c5e09",
   "metadata": {},
   "outputs": [],
   "source": [
    "#19. Why are dictionaries considered unordered, and how does that affect data retrieval?\n",
    "   -'''They relied on hash tables which didn’t preserve order.'''"
   ]
  },
  {
   "cell_type": "code",
   "execution_count": null,
   "id": "ac1795b5-4c74-49d1-9feb-e24a7dd0f73f",
   "metadata": {},
   "outputs": [],
   "source": [
    "#20. Explain the difference between a list and a dictionary in terms of data retrieval.\n",
    "   -'''List: By index (e.g., my_list[0])\n",
    "       Dictionary: By key (e.g., my_dict[\"name\"])'''"
   ]
  },
  {
   "cell_type": "code",
   "execution_count": null,
   "id": "d5be6340-613e-4ce9-bcea-70fc90790ae1",
   "metadata": {},
   "outputs": [],
   "source": []
  },
  {
   "cell_type": "code",
   "execution_count": null,
   "id": "4fa37506-18d5-4c87-b7b2-fc914c77eb9a",
   "metadata": {},
   "outputs": [],
   "source": []
  },
  {
   "cell_type": "code",
   "execution_count": null,
   "id": "a6d19d6b-c1f9-4f44-b5dd-579332a37d68",
   "metadata": {},
   "outputs": [],
   "source": []
  },
  {
   "cell_type": "code",
   "execution_count": 8,
   "id": "e6d21a41-c681-4b3d-b851-85aca87e83c6",
   "metadata": {},
   "outputs": [
    {
     "name": "stdout",
     "output_type": "stream",
     "text": [
      "Biswajit Ghosh\n"
     ]
    }
   ],
   "source": [
    "#1. Write a code to create a string with your name and print it.\n",
    "name = \"Biswajit Ghosh\"\n",
    "print(name)"
   ]
  },
  {
   "cell_type": "code",
   "execution_count": 9,
   "id": "260914c4-20f2-4635-b6c1-5ae202e44453",
   "metadata": {},
   "outputs": [
    {
     "data": {
      "text/plain": [
       "11"
      ]
     },
     "execution_count": 9,
     "metadata": {},
     "output_type": "execute_result"
    }
   ],
   "source": [
    "#2. Write a code to find the length of the string \"Hello World\"\n",
    "a = \"Hello World\"\n",
    "len(a)"
   ]
  },
  {
   "cell_type": "code",
   "execution_count": 11,
   "id": "c73b1948-a7f3-498a-82ca-1faa353f8a76",
   "metadata": {},
   "outputs": [
    {
     "data": {
      "text/plain": [
       "'Pyt'"
      ]
     },
     "execution_count": 11,
     "metadata": {},
     "output_type": "execute_result"
    }
   ],
   "source": [
    "#3. Write a code to slice the first 3 characters from the string \"Python Programming\"\n",
    "str1 = \"Python Programming\"\n",
    "str1[:3]"
   ]
  },
  {
   "cell_type": "code",
   "execution_count": 12,
   "id": "8961303c-2933-48ab-8383-f61970be7b06",
   "metadata": {},
   "outputs": [
    {
     "data": {
      "text/plain": [
       "'HELLO'"
      ]
     },
     "execution_count": 12,
     "metadata": {},
     "output_type": "execute_result"
    }
   ],
   "source": [
    "#4. Write a code to convert the string \"hello\" to uppercase\n",
    "str2 = \"hello\"\n",
    "str2.upper()"
   ]
  },
  {
   "cell_type": "code",
   "execution_count": 13,
   "id": "b27fc0a6-f3f9-4d97-9d37-19dbe64ea201",
   "metadata": {},
   "outputs": [
    {
     "data": {
      "text/plain": [
       "'I like orange'"
      ]
     },
     "execution_count": 13,
     "metadata": {},
     "output_type": "execute_result"
    }
   ],
   "source": [
    "#5. Write a code to replace the word \"apple\" with \"orange\" in the string \"I like apple\"\n",
    "str3 = \"I like apple\"\n",
    "str3.replace(\"apple\", \"orange\")"
   ]
  },
  {
   "cell_type": "code",
   "execution_count": 14,
   "id": "5f0b5d31-acb2-4f38-91e4-43cf91803c46",
   "metadata": {},
   "outputs": [
    {
     "data": {
      "text/plain": [
       "[1, 2, 3, 4, 5]"
      ]
     },
     "execution_count": 14,
     "metadata": {},
     "output_type": "execute_result"
    }
   ],
   "source": [
    "#6. Write a code to create a list with numbers 1 to 5 and print it\n",
    "list1 = [1,2,3,4,5]\n",
    "list1"
   ]
  },
  {
   "cell_type": "code",
   "execution_count": 17,
   "id": "58a59d37-e102-4652-98ed-0e5872c4feba",
   "metadata": {},
   "outputs": [
    {
     "data": {
      "text/plain": [
       "[1, 2, 3, 4, 10]"
      ]
     },
     "execution_count": 17,
     "metadata": {},
     "output_type": "execute_result"
    }
   ],
   "source": [
    "#7. Write a code to append the number 10 to the list [1, 2, 3, 4]\n",
    "list2 = [1,2,3,4]\n",
    "list2.append(10)\n",
    "list2"
   ]
  },
  {
   "cell_type": "code",
   "execution_count": 18,
   "id": "a343e7e2-c95c-44ad-a856-62c7664fe31b",
   "metadata": {},
   "outputs": [
    {
     "data": {
      "text/plain": [
       "[1, 2, 4, 5]"
      ]
     },
     "execution_count": 18,
     "metadata": {},
     "output_type": "execute_result"
    }
   ],
   "source": [
    "#8. Write a code to remove the number 3 from the list [1, 2, 3, 4, 5]\n",
    "list3 = [1,2,3,4,5]\n",
    "list3.remove(3)\n",
    "list3"
   ]
  },
  {
   "cell_type": "code",
   "execution_count": 19,
   "id": "e489dff8-f53a-4c67-9846-9f179c6181f5",
   "metadata": {},
   "outputs": [
    {
     "data": {
      "text/plain": [
       "'b'"
      ]
     },
     "execution_count": 19,
     "metadata": {},
     "output_type": "execute_result"
    }
   ],
   "source": [
    "#9. Write a code to access the second element in the list ['a', 'b', 'c', 'd']\n",
    "list4 = ['a', 'b', 'c', 'd']\n",
    "list4[1]"
   ]
  },
  {
   "cell_type": "code",
   "execution_count": 21,
   "id": "6ac7ce49-b22e-4cf4-b59e-1a57ee82f8b1",
   "metadata": {},
   "outputs": [
    {
     "data": {
      "text/plain": [
       "[50, 40, 30, 20, 10]"
      ]
     },
     "execution_count": 21,
     "metadata": {},
     "output_type": "execute_result"
    }
   ],
   "source": [
    "#10. Write a code to reverse the list [10, 20, 30, 40, 50]\n",
    "list5 = [10, 20, 30, 40, 50]\n",
    "list5.reverse()\n",
    "list5"
   ]
  },
  {
   "cell_type": "code",
   "execution_count": 22,
   "id": "a8c94d1e-644a-4edc-a29e-8925396a6764",
   "metadata": {},
   "outputs": [
    {
     "name": "stdout",
     "output_type": "stream",
     "text": [
      "(100, 200, 300)\n"
     ]
    }
   ],
   "source": [
    "#11. Write a code to create a tuple with the elements 100, 200, 300 and print it\n",
    "tuple1 = (100, 200, 300)\n",
    "print(tuple1)"
   ]
  },
  {
   "cell_type": "code",
   "execution_count": 23,
   "id": "8ac749f6-2f79-4417-8423-91bb09d14d0e",
   "metadata": {},
   "outputs": [
    {
     "data": {
      "text/plain": [
       "'blue'"
      ]
     },
     "execution_count": 23,
     "metadata": {},
     "output_type": "execute_result"
    }
   ],
   "source": [
    "#12. Write a code to access the second-to-last element of the tuple ('red', 'green', 'blue', 'yellow')\n",
    "tuple2 = ('red', 'green', 'blue', 'yellow')\n",
    "tuple2[-2]"
   ]
  },
  {
   "cell_type": "code",
   "execution_count": 24,
   "id": "cbcf5f87-f589-4624-82eb-34164bb0d549",
   "metadata": {},
   "outputs": [
    {
     "data": {
      "text/plain": [
       "5"
      ]
     },
     "execution_count": 24,
     "metadata": {},
     "output_type": "execute_result"
    }
   ],
   "source": [
    "#13. Write a code to find the minimum number in the tuple (10, 20, 5, 15).\n",
    "tuple3 = (10, 20, 5, 15)\n",
    "min(tuple3)"
   ]
  },
  {
   "cell_type": "code",
   "execution_count": 25,
   "id": "15007afc-2638-458f-acca-0744daf53f8b",
   "metadata": {},
   "outputs": [
    {
     "data": {
      "text/plain": [
       "1"
      ]
     },
     "execution_count": 25,
     "metadata": {},
     "output_type": "execute_result"
    }
   ],
   "source": [
    "#14.. Write a code to find the index of the element \"cat\" in the tuple ('dog', 'cat', 'rabbit').\n",
    "tuple4 = ('dog', 'cat', 'rabbit')\n",
    "tuple4.index('cat')"
   ]
  },
  {
   "cell_type": "code",
   "execution_count": 26,
   "id": "60cfc34b-a0b7-4d2f-a839-aa52e3c445ee",
   "metadata": {},
   "outputs": [
    {
     "data": {
      "text/plain": [
       "False"
      ]
     },
     "execution_count": 26,
     "metadata": {},
     "output_type": "execute_result"
    }
   ],
   "source": [
    "#15.. Write a code to create a tuple containing three different fruits and check if \"kiwi\" is in it.\n",
    "tuple5 = ('mango', 'litchi', 'apple')\n",
    "\"kiwi\" in tuple5"
   ]
  },
  {
   "cell_type": "code",
   "execution_count": 27,
   "id": "5dfb3cb1-e1b8-4ea9-8a63-a7852c8de91e",
   "metadata": {},
   "outputs": [
    {
     "data": {
      "text/plain": [
       "{'a', 'b', 'c'}"
      ]
     },
     "execution_count": 27,
     "metadata": {},
     "output_type": "execute_result"
    }
   ],
   "source": [
    "#16. Write a code to create a set with the elements 'a', 'b', 'c' and print it.\n",
    "set1 = {'a', 'b', 'c'}\n",
    "set1"
   ]
  },
  {
   "cell_type": "code",
   "execution_count": 29,
   "id": "50019ee1-1930-45c6-8731-3ce6b9f981c6",
   "metadata": {},
   "outputs": [
    {
     "data": {
      "text/plain": [
       "set()"
      ]
     },
     "execution_count": 29,
     "metadata": {},
     "output_type": "execute_result"
    }
   ],
   "source": [
    "#17. Write a code to clear all elements from the set {1, 2, 3, 4, 5}.\n",
    "set2 = {1, 2, 3, 4, 5}\n",
    "set2.clear()\n",
    "set2"
   ]
  },
  {
   "cell_type": "code",
   "execution_count": 30,
   "id": "3d274a30-d2e0-44e8-9213-a0471d25c788",
   "metadata": {},
   "outputs": [
    {
     "data": {
      "text/plain": [
       "{1, 2, 3}"
      ]
     },
     "execution_count": 30,
     "metadata": {},
     "output_type": "execute_result"
    }
   ],
   "source": [
    "#18. Write a code to remove the element 4 from the set {1, 2, 3, 4}.\n",
    "set3 = {1, 2, 3, 4}\n",
    "set3.remove(4)\n",
    "set3"
   ]
  },
  {
   "cell_type": "code",
   "execution_count": 31,
   "id": "445266b1-e5fa-4945-b40c-b107371f1575",
   "metadata": {},
   "outputs": [
    {
     "data": {
      "text/plain": [
       "{1, 2, 3, 4, 5}"
      ]
     },
     "execution_count": 31,
     "metadata": {},
     "output_type": "execute_result"
    }
   ],
   "source": [
    "#19. Write a code to find the union of two sets {1, 2, 3} and {3, 4, 5}.\n",
    "set41 = {1, 2, 3}\n",
    "set42 = {3, 4, 5}\n",
    "set41 | set42"
   ]
  },
  {
   "cell_type": "code",
   "execution_count": 32,
   "id": "b5207576-2c70-4e17-82bf-7e6195017f2e",
   "metadata": {},
   "outputs": [
    {
     "data": {
      "text/plain": [
       "{2, 3}"
      ]
     },
     "execution_count": 32,
     "metadata": {},
     "output_type": "execute_result"
    }
   ],
   "source": [
    "#20. Write a code to find the intersection of two sets {1, 2, 3} and {2, 3, 4}\n",
    "set51 = {1, 2, 3}\n",
    "set52 = {2, 3, 4}\n",
    "set51 & set52"
   ]
  },
  {
   "cell_type": "code",
   "execution_count": 34,
   "id": "905779dd-3407-4e61-96ac-7547251b3167",
   "metadata": {},
   "outputs": [
    {
     "data": {
      "text/plain": [
       "{'Name': 'Biswajit Ghosh', 'Age': 29, 'City': 'Nabadwip'}"
      ]
     },
     "execution_count": 34,
     "metadata": {},
     "output_type": "execute_result"
    }
   ],
   "source": [
    "#21. Write a code to create a dictionary with the keys \"name\", \"age\", and \"city\", and print it.\n",
    "dict1 = { \"Name\": \"Biswajit Ghosh\", \"Age\": 29, \"City\": \"Nabadwip\"}\n",
    "dict1"
   ]
  },
  {
   "cell_type": "code",
   "execution_count": 39,
   "id": "5785daaa-8b09-4fe1-81c2-c4d0d72c209e",
   "metadata": {},
   "outputs": [
    {
     "data": {
      "text/plain": [
       "{'name': 'John', 'age': 25, 'country': 'USA'}"
      ]
     },
     "execution_count": 39,
     "metadata": {},
     "output_type": "execute_result"
    }
   ],
   "source": [
    "#22.Write a code to add a new key-value pair \"country\": \"USA\" to the dictionary {'name': 'John', 'age': 25}\n",
    "dict2 = {'name': 'John', 'age': 25}\n",
    "dict2[\"country\"] = \"USA\"\n",
    "dict2"
   ]
  },
  {
   "cell_type": "code",
   "execution_count": 40,
   "id": "bbfd2155-59be-4ddb-82f9-62d106018772",
   "metadata": {},
   "outputs": [
    {
     "data": {
      "text/plain": [
       "'Alice'"
      ]
     },
     "execution_count": 40,
     "metadata": {},
     "output_type": "execute_result"
    }
   ],
   "source": [
    "#23. Write a code to access the value associated with the key \"name\" in the dictionary {'name': 'Alice', 'age': 30}.\n",
    "dict3 = {'name': 'Alice', 'age': 30}\n",
    "dict3[\"name\"]"
   ]
  },
  {
   "cell_type": "code",
   "execution_count": 42,
   "id": "74a1f9ff-e009-4652-9749-e94a1c0e3ef8",
   "metadata": {},
   "outputs": [
    {
     "data": {
      "text/plain": [
       "{'name': 'Bob', 'city': 'New York'}"
      ]
     },
     "execution_count": 42,
     "metadata": {},
     "output_type": "execute_result"
    }
   ],
   "source": [
    "#24. Write a code to remove the key \"age\" from the dictionary {'name': 'Bob', 'age': 22, 'city': 'New York'}.\n",
    "dict4 = {'name': 'Bob', 'age': 22, 'city': 'New York'}\n",
    "del dict4[\"age\"]\n",
    "dict4"
   ]
  },
  {
   "cell_type": "code",
   "execution_count": 43,
   "id": "0dde8dfe-8db8-434c-8edf-6e29fd99700a",
   "metadata": {},
   "outputs": [
    {
     "data": {
      "text/plain": [
       "True"
      ]
     },
     "execution_count": 43,
     "metadata": {},
     "output_type": "execute_result"
    }
   ],
   "source": [
    "#25. Write a code to check if the key \"city\" exists in the dictionary {'name': 'Alice', 'city': 'Paris'}.\n",
    "dict5 = {'name': 'Alice', 'city': 'Paris'}\n",
    "\"city\" in dict5"
   ]
  },
  {
   "cell_type": "code",
   "execution_count": 44,
   "id": "712c8542-877d-47b7-bd32-d4c5890180d9",
   "metadata": {},
   "outputs": [
    {
     "name": "stdout",
     "output_type": "stream",
     "text": [
      "[1, 2, 3] (1, 2, 3) {'a': 1, 'b': 2, 'c': 3}\n"
     ]
    }
   ],
   "source": [
    "#26. Write a code to create a list, a tuple, and a dictionary, and print them all.\n",
    "list = [1, 2, 3]\n",
    "tuple = (1, 2, 3)\n",
    "dict = {'a': 1, 'b': 2, 'c': 3}\n",
    "print(list, tuple, dict)"
   ]
  },
  {
   "cell_type": "code",
   "execution_count": 57,
   "id": "8d678695-d32c-434d-a149-da37538a459b",
   "metadata": {},
   "outputs": [
    {
     "data": {
      "text/plain": [
       "[3, 34, 75, 88, 96]"
      ]
     },
     "execution_count": 57,
     "metadata": {},
     "output_type": "execute_result"
    }
   ],
   "source": [
    "#27.. Write a code to create a list of 5 random numbers between 1 and 100, sort it in ascending order, and print the result.\n",
    "import random\n",
    "list0 = random.sample(range(1,101), 5)\n",
    "list0.sort()\n",
    "list0"
   ]
  },
  {
   "cell_type": "code",
   "execution_count": 48,
   "id": "be76f1cb-1da2-4efb-9871-5e5afc243cd3",
   "metadata": {},
   "outputs": [
    {
     "data": {
      "text/plain": [
       "'Four'"
      ]
     },
     "execution_count": 48,
     "metadata": {},
     "output_type": "execute_result"
    }
   ],
   "source": [
    "#28.Write a code to create a list with strings and print the element at the third index.\n",
    "number = [\"One\", \"Two\", \"Three\", \"Four\", \"Five\"]\n",
    "number[3]"
   ]
  },
  {
   "cell_type": "code",
   "execution_count": 51,
   "id": "16dc513c-8066-4eae-9811-30fe064dff36",
   "metadata": {},
   "outputs": [
    {
     "data": {
      "text/plain": [
       "{'a': 1, 'b': 2, 'c': 3, 'd': 4}"
      ]
     },
     "execution_count": 51,
     "metadata": {},
     "output_type": "execute_result"
    }
   ],
   "source": [
    "#29. Write a code to combine two dictionaries into one and print the result.\n",
    "dict01 = {'a': 1, 'b': 2}\n",
    "dict02 = {'c': 3, 'd': 4}\n",
    "dict01.update(dict02)\n",
    "dict01"
   ]
  },
  {
   "cell_type": "code",
   "execution_count": 52,
   "id": "960e0138-3a5b-4d8f-8a83-8d1f58102990",
   "metadata": {},
   "outputs": [
    {
     "data": {
      "text/plain": [
       "{'Four', 'One', 'Three', 'Two'}"
      ]
     },
     "execution_count": 52,
     "metadata": {},
     "output_type": "execute_result"
    }
   ],
   "source": [
    "#30. Write a code to convert a list of strings into a set.\n",
    "str_list = [\"One\", \"Two\", \"Three\", \"Four\"]\n",
    "str_set = set(str_list)\n",
    "str_set"
   ]
  },
  {
   "cell_type": "code",
   "execution_count": null,
   "id": "712da209-2156-48e5-b488-a330d0883661",
   "metadata": {},
   "outputs": [],
   "source": []
  }
 ],
 "metadata": {
  "kernelspec": {
   "display_name": "Python 3 (ipykernel)",
   "language": "python",
   "name": "python3"
  },
  "language_info": {
   "codemirror_mode": {
    "name": "ipython",
    "version": 3
   },
   "file_extension": ".py",
   "mimetype": "text/x-python",
   "name": "python",
   "nbconvert_exporter": "python",
   "pygments_lexer": "ipython3",
   "version": "3.12.7"
  }
 },
 "nbformat": 4,
 "nbformat_minor": 5
}
